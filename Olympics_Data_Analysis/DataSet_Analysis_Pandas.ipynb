{
 "cells": [
  {
   "attachments": {},
   "cell_type": "markdown",
   "metadata": {},
   "source": [
    "Statistical Parameters Analysis of a Dataframe"
   ]
  },
  {
   "cell_type": "code",
   "execution_count": 33,
   "metadata": {},
   "outputs": [],
   "source": [
    "import pandas as pd"
   ]
  },
  {
   "cell_type": "code",
   "execution_count": 34,
   "metadata": {},
   "outputs": [],
   "source": [
    "Dataframe = pd.read_csv(\"train-100.csv\")\n",
    "df = Dataframe"
   ]
  },
  {
   "cell_type": "code",
   "execution_count": 44,
   "metadata": {},
   "outputs": [
    {
     "name": "stdout",
     "output_type": "stream",
     "text": [
      "      Height    Weight\n",
      "0   65.78331  112.9925\n",
      "1   71.51521  136.4873\n",
      "2   69.39874  153.0269\n",
      "3   68.21660  142.3354\n",
      "4   67.78781  144.2971\n",
      "..       ...       ...\n",
      "95  70.55703  131.8001\n",
      "96  66.28644  120.0285\n",
      "97  63.42577  123.0972\n",
      "98  66.76711  128.1432\n",
      "99  68.88741  115.4759\n",
      "\n",
      "[100 rows x 2 columns]\n",
      "           Height      Weight\n",
      "count  100.000000  100.000000\n",
      "mean    68.141057  129.209117\n",
      "std      1.827911   12.120656\n",
      "min     63.425770   97.901910\n",
      "25%     66.861580  121.731925\n",
      "50%     68.218055  129.408000\n",
      "75%     69.557010  138.821025\n",
      "max     71.804840  155.898700\n"
     ]
    }
   ],
   "source": [
    "print(df)"
   ]
  },
  {
   "cell_type": "code",
   "execution_count": 36,
   "metadata": {},
   "outputs": [
    {
     "name": "stdout",
     "output_type": "stream",
     "text": [
      "   Index    Height    Weight\n",
      "0      1  65.78331  112.9925\n",
      "1      2  71.51521  136.4873\n",
      "2      3  69.39874  153.0269\n",
      "3      4  68.21660  142.3354\n",
      "4      5  67.78781  144.2971\n",
      "5      6  68.69784  123.3024\n",
      "6      7  69.80204  141.4947\n",
      "7      8  70.01472  136.4623\n",
      "8      9  67.90265  112.3723\n",
      "9     10  66.78236  120.6672\n"
     ]
    }
   ],
   "source": [
    "print(df.head(10))"
   ]
  },
  {
   "cell_type": "code",
   "execution_count": 37,
   "metadata": {},
   "outputs": [
    {
     "name": "stdout",
     "output_type": "stream",
     "text": [
      "    Index    Height    Weight\n",
      "94     95  70.06306  133.4570\n",
      "95     96  70.55703  131.8001\n",
      "96     97  66.28644  120.0285\n",
      "97     98  63.42577  123.0972\n",
      "98     99  66.76711  128.1432\n",
      "99    100  68.88741  115.4759\n"
     ]
    }
   ],
   "source": [
    "print(df.tail(6))"
   ]
  },
  {
   "cell_type": "code",
   "execution_count": 38,
   "metadata": {},
   "outputs": [
    {
     "name": "stdout",
     "output_type": "stream",
     "text": [
      "0     65.78331\n",
      "1     71.51521\n",
      "2     69.39874\n",
      "3     68.21660\n",
      "4     67.78781\n",
      "        ...   \n",
      "95    70.55703\n",
      "96    66.28644\n",
      "97    63.42577\n",
      "98    66.76711\n",
      "99    68.88741\n",
      "Name: Height, Length: 100, dtype: float64\n"
     ]
    }
   ],
   "source": [
    "#Field\n",
    "print(df['Height'])\n",
    "# Field Deletion\n",
    "del df['Index']        # Since index is an unwanted field"
   ]
  },
  {
   "cell_type": "code",
   "execution_count": 40,
   "metadata": {},
   "outputs": [
    {
     "name": "stdout",
     "output_type": "stream",
     "text": [
      "Mean of Height: 68.1410566\n",
      "Mean of Weight: 129.20911710000001\n",
      "Mean of Weight: Height     68.141057\n",
      "Weight    129.209117\n",
      "dtype: float64\n"
     ]
    }
   ],
   "source": [
    "# Mean\n",
    "# for Individual field\n",
    "print(\"Mean of Height:\",df['Height'].mean())\n",
    "print(\"Mean of Weight:\",df['Weight'].mean())\n",
    "# for entire Dataframe\n",
    "print(\"Mean of All fields:\\n\",df.mean(numeric_only=True))"
   ]
  },
  {
   "cell_type": "code",
   "execution_count": 57,
   "metadata": {},
   "outputs": [
    {
     "name": "stdout",
     "output_type": "stream",
     "text": [
      "Standard Deviation of Height: 1.827910937325001\n",
      "Standard Deviation of Weight: 12.120655622488336\n",
      "Standard Deviation of All fields\n",
      ": Height     1.827911\n",
      "Weight    12.120656\n",
      "dtype: float64\n"
     ]
    }
   ],
   "source": [
    "# Skew\n",
    "# for Individual field\n",
    "print(\"Standard Deviation of Height:\",df['Height'].std())\n",
    "print(\"Standard Deviation of Weight:\",df['Weight'].std())\n",
    "# for entire Dataframe\n",
    "print(\"Standard Deviation of All fields\\n:\",df.std(numeric_only=True))"
   ]
  },
  {
   "cell_type": "code",
   "execution_count": 58,
   "metadata": {},
   "outputs": [
    {
     "name": "stdout",
     "output_type": "stream",
     "text": [
      "Skew of Height: -0.2664081466706914\n",
      "Skew of Weight: -0.30665563164652104\n",
      "Skew of All fields\n",
      ": Height   -0.266408\n",
      "Weight   -0.306656\n",
      "dtype: float64\n"
     ]
    }
   ],
   "source": [
    "# Skew\n",
    "# for Individual field\n",
    "print(\"Skew of Height:\",df['Height'].skew())\n",
    "print(\"Skew of Weight:\",df['Weight'].skew())\n",
    "# for entire Dataframe\n",
    "print(\"Skew of All fields\\n:\",df.skew(numeric_only=True))"
   ]
  },
  {
   "cell_type": "code",
   "execution_count": 70,
   "metadata": {},
   "outputs": [
    {
     "name": "stdout",
     "output_type": "stream",
     "text": [
      "<class 'pandas.core.frame.DataFrame'>\n",
      "count    100.000000\n",
      "mean      68.141057\n",
      "std        1.827911\n",
      "min       63.425770\n",
      "25%       66.861580\n",
      "50%       68.218055\n",
      "75%       69.557010\n",
      "max       71.804840\n",
      "Name: Height, dtype: float64\n",
      "           Height      Weight\n",
      "count  100.000000  100.000000\n",
      "mean    68.141057  129.209117\n",
      "std      1.827911   12.120656\n",
      "min     63.425770   97.901910\n",
      "25%     66.861580  121.731925\n",
      "50%     68.218055  129.408000\n",
      "75%     69.557010  138.821025\n",
      "max     71.804840  155.898700\n"
     ]
    }
   ],
   "source": [
    "# Complete analysis of the Dataframe\n",
    "desc = df.describe()\n",
    "print(type(desc))\n",
    "print(desc['Height'])\n",
    "print(desc)"
   ]
  },
  {
   "cell_type": "code",
   "execution_count": 71,
   "metadata": {},
   "outputs": [
    {
     "name": "stdout",
     "output_type": "stream",
     "text": [
      "count    100.000000\n",
      "mean      68.141057\n",
      "std        1.827911\n",
      "min       63.425770\n",
      "25%       66.861580\n",
      "50%       68.218055\n",
      "75%       69.557010\n",
      "max       71.804840\n",
      "Name: Height, dtype: float64\n",
      " 25th Percentile/1st Quartile: 66.86158\n"
     ]
    }
   ],
   "source": [
    "desc_Height = df.describe()['Height']\n",
    "print(desc_Height)\n",
    "print(\" 25th Percentile/1st Quartile:\",desc_Height['25%'])"
   ]
  }
 ],
 "metadata": {
  "kernelspec": {
   "display_name": "Python 3",
   "language": "python",
   "name": "python3"
  },
  "language_info": {
   "codemirror_mode": {
    "name": "ipython",
    "version": 3
   },
   "file_extension": ".py",
   "mimetype": "text/x-python",
   "name": "python",
   "nbconvert_exporter": "python",
   "pygments_lexer": "ipython3",
   "version": "3.11.2"
  },
  "orig_nbformat": 4
 },
 "nbformat": 4,
 "nbformat_minor": 2
}
